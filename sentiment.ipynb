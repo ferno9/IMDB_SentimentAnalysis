{
 "cells": [
  {
   "cell_type": "code",
   "execution_count": 1,
   "id": "dedf0ead-ed16-4165-a58c-b7190a66748d",
   "metadata": {
    "execution": {
     "iopub.execute_input": "2022-09-13T10:28:16.189387Z",
     "iopub.status.busy": "2022-09-13T10:28:16.189107Z",
     "iopub.status.idle": "2022-09-13T10:28:21.532329Z",
     "shell.execute_reply": "2022-09-13T10:28:21.531354Z",
     "shell.execute_reply.started": "2022-09-13T10:28:16.189331Z"
    }
   },
   "outputs": [],
   "source": [
    "!pip install -Uqq fastbook\n",
    "import fastbook\n",
    "fastbook.setup_book()\n",
    "#hide\n",
    "from fastbook import *\n",
    "from IPython.display import display,HTML"
   ]
  },
  {
   "cell_type": "code",
   "execution_count": 2,
   "id": "a47874e1-74f0-4fd2-881c-d47a21d6e43f",
   "metadata": {
    "execution": {
     "iopub.execute_input": "2022-09-13T10:29:26.719427Z",
     "iopub.status.busy": "2022-09-13T10:29:26.718696Z",
     "iopub.status.idle": "2022-09-13T10:29:43.544739Z",
     "shell.execute_reply": "2022-09-13T10:29:43.544161Z",
     "shell.execute_reply.started": "2022-09-13T10:29:26.719391Z"
    }
   },
   "outputs": [
    {
     "data": {
      "text/html": [
       "\n",
       "<style>\n",
       "    /* Turns off some styling */\n",
       "    progress {\n",
       "        /* gets rid of default border in Firefox and Opera. */\n",
       "        border: none;\n",
       "        /* Needs to be in here for Safari polyfill so background images work as expected. */\n",
       "        background-size: auto;\n",
       "    }\n",
       "    progress:not([value]), progress:not([value])::-webkit-progress-bar {\n",
       "        background: repeating-linear-gradient(45deg, #7e7e7e, #7e7e7e 10px, #5c5c5c 10px, #5c5c5c 20px);\n",
       "    }\n",
       "    .progress-bar-interrupted, .progress-bar-interrupted::-webkit-progress-bar {\n",
       "        background: #F44336;\n",
       "    }\n",
       "</style>\n"
      ],
      "text/plain": [
       "<IPython.core.display.HTML object>"
      ]
     },
     "metadata": {},
     "output_type": "display_data"
    },
    {
     "data": {
      "text/html": [
       "\n",
       "    <div>\n",
       "      <progress value='144441344' class='' max='144440600' style='width:300px; height:20px; vertical-align: middle;'></progress>\n",
       "      100.00% [144441344/144440600 00:02&lt;00:00]\n",
       "    </div>\n",
       "    "
      ],
      "text/plain": [
       "<IPython.core.display.HTML object>"
      ]
     },
     "metadata": {},
     "output_type": "display_data"
    }
   ],
   "source": [
    "from fastai.text.all import *\n",
    "path = untar_data(URLs.IMDB)"
   ]
  },
  {
   "cell_type": "code",
   "execution_count": 3,
   "id": "9a3940f8-34a5-4522-a841-c43af49ce560",
   "metadata": {
    "execution": {
     "iopub.execute_input": "2022-09-13T10:30:07.994802Z",
     "iopub.status.busy": "2022-09-13T10:30:07.994513Z",
     "iopub.status.idle": "2022-09-13T10:31:23.205852Z",
     "shell.execute_reply": "2022-09-13T10:31:23.205138Z",
     "shell.execute_reply.started": "2022-09-13T10:30:07.994780Z"
    }
   },
   "outputs": [
    {
     "data": {
      "text/html": [
       "\n",
       "<style>\n",
       "    /* Turns off some styling */\n",
       "    progress {\n",
       "        /* gets rid of default border in Firefox and Opera. */\n",
       "        border: none;\n",
       "        /* Needs to be in here for Safari polyfill so background images work as expected. */\n",
       "        background-size: auto;\n",
       "    }\n",
       "    progress:not([value]), progress:not([value])::-webkit-progress-bar {\n",
       "        background: repeating-linear-gradient(45deg, #7e7e7e, #7e7e7e 10px, #5c5c5c 10px, #5c5c5c 20px);\n",
       "    }\n",
       "    .progress-bar-interrupted, .progress-bar-interrupted::-webkit-progress-bar {\n",
       "        background: #F44336;\n",
       "    }\n",
       "</style>\n"
      ],
      "text/plain": [
       "<IPython.core.display.HTML object>"
      ]
     },
     "metadata": {},
     "output_type": "display_data"
    },
    {
     "data": {
      "text/html": [],
      "text/plain": [
       "<IPython.core.display.HTML object>"
      ]
     },
     "metadata": {},
     "output_type": "display_data"
    }
   ],
   "source": [
    "get_imdb = partial(get_text_files, folders=['train', 'test', 'unsup'])\n",
    "\n",
    "dls_lm = DataBlock(\n",
    "    blocks=TextBlock.from_folder(path, is_lm=True),\n",
    "    get_items=get_imdb, splitter=RandomSplitter(0.1)\n",
    ").dataloaders(path, path=path, bs=128, seq_len=80)"
   ]
  },
  {
   "cell_type": "code",
   "execution_count": 4,
   "id": "89b8dbb2-a1e0-47d0-8016-0d54ecd779ef",
   "metadata": {
    "execution": {
     "iopub.execute_input": "2022-09-13T10:31:23.209440Z",
     "iopub.status.busy": "2022-09-13T10:31:23.209054Z",
     "iopub.status.idle": "2022-09-13T10:31:27.284941Z",
     "shell.execute_reply": "2022-09-13T10:31:27.284470Z",
     "shell.execute_reply.started": "2022-09-13T10:31:23.209420Z"
    }
   },
   "outputs": [
    {
     "data": {
      "text/html": [
       "\n",
       "<style>\n",
       "    /* Turns off some styling */\n",
       "    progress {\n",
       "        /* gets rid of default border in Firefox and Opera. */\n",
       "        border: none;\n",
       "        /* Needs to be in here for Safari polyfill so background images work as expected. */\n",
       "        background-size: auto;\n",
       "    }\n",
       "    progress:not([value]), progress:not([value])::-webkit-progress-bar {\n",
       "        background: repeating-linear-gradient(45deg, #7e7e7e, #7e7e7e 10px, #5c5c5c 10px, #5c5c5c 20px);\n",
       "    }\n",
       "    .progress-bar-interrupted, .progress-bar-interrupted::-webkit-progress-bar {\n",
       "        background: #F44336;\n",
       "    }\n",
       "</style>\n"
      ],
      "text/plain": [
       "<IPython.core.display.HTML object>"
      ]
     },
     "metadata": {},
     "output_type": "display_data"
    },
    {
     "data": {
      "text/html": [
       "\n",
       "    <div>\n",
       "      <progress value='105070592' class='' max='105067061' style='width:300px; height:20px; vertical-align: middle;'></progress>\n",
       "      100.00% [105070592/105067061 00:01&lt;00:00]\n",
       "    </div>\n",
       "    "
      ],
      "text/plain": [
       "<IPython.core.display.HTML object>"
      ]
     },
     "metadata": {},
     "output_type": "display_data"
    }
   ],
   "source": [
    "learn = language_model_learner(\n",
    "    dls_lm, AWD_LSTM, drop_mult=0.3, \n",
    "    metrics=[accuracy, Perplexity()]).to_fp16()"
   ]
  },
  {
   "cell_type": "code",
   "execution_count": 5,
   "id": "950c664a-9184-40bc-849c-722fe4ec6b78",
   "metadata": {
    "execution": {
     "iopub.execute_input": "2022-09-13T10:31:27.286146Z",
     "iopub.status.busy": "2022-09-13T10:31:27.285588Z",
     "iopub.status.idle": "2022-09-13T10:51:42.558648Z",
     "shell.execute_reply": "2022-09-13T10:51:42.557953Z",
     "shell.execute_reply.started": "2022-09-13T10:31:27.286124Z"
    }
   },
   "outputs": [
    {
     "data": {
      "text/html": [
       "\n",
       "<style>\n",
       "    /* Turns off some styling */\n",
       "    progress {\n",
       "        /* gets rid of default border in Firefox and Opera. */\n",
       "        border: none;\n",
       "        /* Needs to be in here for Safari polyfill so background images work as expected. */\n",
       "        background-size: auto;\n",
       "    }\n",
       "    progress:not([value]), progress:not([value])::-webkit-progress-bar {\n",
       "        background: repeating-linear-gradient(45deg, #7e7e7e, #7e7e7e 10px, #5c5c5c 10px, #5c5c5c 20px);\n",
       "    }\n",
       "    .progress-bar-interrupted, .progress-bar-interrupted::-webkit-progress-bar {\n",
       "        background: #F44336;\n",
       "    }\n",
       "</style>\n"
      ],
      "text/plain": [
       "<IPython.core.display.HTML object>"
      ]
     },
     "metadata": {},
     "output_type": "display_data"
    },
    {
     "data": {
      "text/html": [
       "<table border=\"1\" class=\"dataframe\">\n",
       "  <thead>\n",
       "    <tr style=\"text-align: left;\">\n",
       "      <th>epoch</th>\n",
       "      <th>train_loss</th>\n",
       "      <th>valid_loss</th>\n",
       "      <th>accuracy</th>\n",
       "      <th>perplexity</th>\n",
       "      <th>time</th>\n",
       "    </tr>\n",
       "  </thead>\n",
       "  <tbody>\n",
       "    <tr>\n",
       "      <td>0</td>\n",
       "      <td>3.998896</td>\n",
       "      <td>3.901318</td>\n",
       "      <td>0.300748</td>\n",
       "      <td>49.467583</td>\n",
       "      <td>20:15</td>\n",
       "    </tr>\n",
       "  </tbody>\n",
       "</table>"
      ],
      "text/plain": [
       "<IPython.core.display.HTML object>"
      ]
     },
     "metadata": {},
     "output_type": "display_data"
    }
   ],
   "source": [
    "learn.fit_one_cycle(1, 2e-2)"
   ]
  },
  {
   "cell_type": "code",
   "execution_count": 6,
   "id": "a48755fe-fb5a-4b27-b41f-7175ccb32e4e",
   "metadata": {
    "execution": {
     "iopub.execute_input": "2022-09-13T10:51:42.561258Z",
     "iopub.status.busy": "2022-09-13T10:51:42.560985Z",
     "iopub.status.idle": "2022-09-13T14:32:29.493786Z",
     "shell.execute_reply": "2022-09-13T14:32:29.493239Z",
     "shell.execute_reply.started": "2022-09-13T10:51:42.561234Z"
    }
   },
   "outputs": [
    {
     "data": {
      "text/html": [
       "\n",
       "<style>\n",
       "    /* Turns off some styling */\n",
       "    progress {\n",
       "        /* gets rid of default border in Firefox and Opera. */\n",
       "        border: none;\n",
       "        /* Needs to be in here for Safari polyfill so background images work as expected. */\n",
       "        background-size: auto;\n",
       "    }\n",
       "    progress:not([value]), progress:not([value])::-webkit-progress-bar {\n",
       "        background: repeating-linear-gradient(45deg, #7e7e7e, #7e7e7e 10px, #5c5c5c 10px, #5c5c5c 20px);\n",
       "    }\n",
       "    .progress-bar-interrupted, .progress-bar-interrupted::-webkit-progress-bar {\n",
       "        background: #F44336;\n",
       "    }\n",
       "</style>\n"
      ],
      "text/plain": [
       "<IPython.core.display.HTML object>"
      ]
     },
     "metadata": {},
     "output_type": "display_data"
    },
    {
     "data": {
      "text/html": [
       "<table border=\"1\" class=\"dataframe\">\n",
       "  <thead>\n",
       "    <tr style=\"text-align: left;\">\n",
       "      <th>epoch</th>\n",
       "      <th>train_loss</th>\n",
       "      <th>valid_loss</th>\n",
       "      <th>accuracy</th>\n",
       "      <th>perplexity</th>\n",
       "      <th>time</th>\n",
       "    </tr>\n",
       "  </thead>\n",
       "  <tbody>\n",
       "    <tr>\n",
       "      <td>0</td>\n",
       "      <td>3.768958</td>\n",
       "      <td>3.760451</td>\n",
       "      <td>0.316702</td>\n",
       "      <td>42.967781</td>\n",
       "      <td>21:11</td>\n",
       "    </tr>\n",
       "    <tr>\n",
       "      <td>1</td>\n",
       "      <td>3.710859</td>\n",
       "      <td>3.710861</td>\n",
       "      <td>0.322022</td>\n",
       "      <td>40.889004</td>\n",
       "      <td>21:26</td>\n",
       "    </tr>\n",
       "    <tr>\n",
       "      <td>2</td>\n",
       "      <td>3.608949</td>\n",
       "      <td>3.655514</td>\n",
       "      <td>0.328542</td>\n",
       "      <td>38.687382</td>\n",
       "      <td>21:40</td>\n",
       "    </tr>\n",
       "    <tr>\n",
       "      <td>3</td>\n",
       "      <td>3.567884</td>\n",
       "      <td>3.622703</td>\n",
       "      <td>0.332413</td>\n",
       "      <td>37.438622</td>\n",
       "      <td>21:38</td>\n",
       "    </tr>\n",
       "    <tr>\n",
       "      <td>4</td>\n",
       "      <td>3.490791</td>\n",
       "      <td>3.600577</td>\n",
       "      <td>0.335219</td>\n",
       "      <td>36.619354</td>\n",
       "      <td>21:57</td>\n",
       "    </tr>\n",
       "    <tr>\n",
       "      <td>5</td>\n",
       "      <td>3.439936</td>\n",
       "      <td>3.580077</td>\n",
       "      <td>0.337952</td>\n",
       "      <td>35.876301</td>\n",
       "      <td>22:07</td>\n",
       "    </tr>\n",
       "    <tr>\n",
       "      <td>6</td>\n",
       "      <td>3.352408</td>\n",
       "      <td>3.573172</td>\n",
       "      <td>0.339503</td>\n",
       "      <td>35.629425</td>\n",
       "      <td>22:25</td>\n",
       "    </tr>\n",
       "    <tr>\n",
       "      <td>7</td>\n",
       "      <td>3.311336</td>\n",
       "      <td>3.569648</td>\n",
       "      <td>0.340494</td>\n",
       "      <td>35.504078</td>\n",
       "      <td>22:31</td>\n",
       "    </tr>\n",
       "    <tr>\n",
       "      <td>8</td>\n",
       "      <td>3.245657</td>\n",
       "      <td>3.573910</td>\n",
       "      <td>0.340680</td>\n",
       "      <td>35.655750</td>\n",
       "      <td>22:47</td>\n",
       "    </tr>\n",
       "    <tr>\n",
       "      <td>9</td>\n",
       "      <td>3.205735</td>\n",
       "      <td>3.578315</td>\n",
       "      <td>0.340503</td>\n",
       "      <td>35.813129</td>\n",
       "      <td>23:00</td>\n",
       "    </tr>\n",
       "  </tbody>\n",
       "</table>"
      ],
      "text/plain": [
       "<IPython.core.display.HTML object>"
      ]
     },
     "metadata": {},
     "output_type": "display_data"
    }
   ],
   "source": [
    "learn.unfreeze()\n",
    "learn.fit_one_cycle(10, 2e-3)"
   ]
  },
  {
   "cell_type": "code",
   "execution_count": 7,
   "id": "c8d2bbee-85a6-4efa-a012-e1c34a7e45e2",
   "metadata": {
    "execution": {
     "iopub.execute_input": "2022-09-13T14:32:29.494657Z",
     "iopub.status.busy": "2022-09-13T14:32:29.494484Z",
     "iopub.status.idle": "2022-09-13T14:32:29.818113Z",
     "shell.execute_reply": "2022-09-13T14:32:29.817396Z",
     "shell.execute_reply.started": "2022-09-13T14:32:29.494643Z"
    }
   },
   "outputs": [],
   "source": [
    "learn.save_encoder('finetuned')"
   ]
  },
  {
   "cell_type": "code",
   "execution_count": 8,
   "id": "16ab7056-dba7-4630-8878-6ce06157f6a7",
   "metadata": {
    "execution": {
     "iopub.execute_input": "2022-09-13T14:32:29.819125Z",
     "iopub.status.busy": "2022-09-13T14:32:29.818924Z",
     "iopub.status.idle": "2022-09-13T14:32:33.033042Z",
     "shell.execute_reply": "2022-09-13T14:32:33.032269Z",
     "shell.execute_reply.started": "2022-09-13T14:32:29.819108Z"
    }
   },
   "outputs": [],
   "source": [
    "dls_clas = DataBlock(\n",
    "    blocks=(TextBlock.from_folder(path, vocab=dls_lm.vocab),CategoryBlock),\n",
    "    get_y = parent_label,\n",
    "    get_items=partial(get_text_files, folders=['train', 'test']),\n",
    "    splitter=GrandparentSplitter(valid_name='test')\n",
    ").dataloaders(path, path=path, bs=128, seq_len=72)"
   ]
  },
  {
   "cell_type": "code",
   "execution_count": 9,
   "id": "ebfff7eb-96c7-4c0f-a19c-4a09213b1582",
   "metadata": {
    "execution": {
     "iopub.execute_input": "2022-09-13T14:32:33.034086Z",
     "iopub.status.busy": "2022-09-13T14:32:33.033877Z",
     "iopub.status.idle": "2022-09-13T14:32:34.033027Z",
     "shell.execute_reply": "2022-09-13T14:32:34.032454Z",
     "shell.execute_reply.started": "2022-09-13T14:32:33.034069Z"
    }
   },
   "outputs": [],
   "source": [
    "learn = text_classifier_learner(dls_clas, AWD_LSTM, drop_mult=0.5, \n",
    "                                metrics=accuracy).to_fp16()"
   ]
  },
  {
   "cell_type": "code",
   "execution_count": 10,
   "id": "ccb0533c-6ae9-4843-be7d-444ade622af2",
   "metadata": {
    "execution": {
     "iopub.execute_input": "2022-09-13T14:32:34.033911Z",
     "iopub.status.busy": "2022-09-13T14:32:34.033733Z",
     "iopub.status.idle": "2022-09-13T14:32:34.152813Z",
     "shell.execute_reply": "2022-09-13T14:32:34.152235Z",
     "shell.execute_reply.started": "2022-09-13T14:32:34.033895Z"
    }
   },
   "outputs": [],
   "source": [
    "learn = learn.load_encoder('finetuned')"
   ]
  },
  {
   "cell_type": "code",
   "execution_count": 11,
   "id": "c45fdb0e-33cd-42f2-be32-247641446926",
   "metadata": {
    "execution": {
     "iopub.execute_input": "2022-09-13T14:32:34.153712Z",
     "iopub.status.busy": "2022-09-13T14:32:34.153528Z",
     "iopub.status.idle": "2022-09-13T14:33:01.678143Z",
     "shell.execute_reply": "2022-09-13T14:33:01.677322Z",
     "shell.execute_reply.started": "2022-09-13T14:32:34.153695Z"
    }
   },
   "outputs": [
    {
     "data": {
      "text/html": [
       "\n",
       "<style>\n",
       "    /* Turns off some styling */\n",
       "    progress {\n",
       "        /* gets rid of default border in Firefox and Opera. */\n",
       "        border: none;\n",
       "        /* Needs to be in here for Safari polyfill so background images work as expected. */\n",
       "        background-size: auto;\n",
       "    }\n",
       "    progress:not([value]), progress:not([value])::-webkit-progress-bar {\n",
       "        background: repeating-linear-gradient(45deg, #7e7e7e, #7e7e7e 10px, #5c5c5c 10px, #5c5c5c 20px);\n",
       "    }\n",
       "    .progress-bar-interrupted, .progress-bar-interrupted::-webkit-progress-bar {\n",
       "        background: #F44336;\n",
       "    }\n",
       "</style>\n"
      ],
      "text/plain": [
       "<IPython.core.display.HTML object>"
      ]
     },
     "metadata": {},
     "output_type": "display_data"
    },
    {
     "data": {
      "text/html": [
       "<table border=\"1\" class=\"dataframe\">\n",
       "  <thead>\n",
       "    <tr style=\"text-align: left;\">\n",
       "      <th>epoch</th>\n",
       "      <th>train_loss</th>\n",
       "      <th>valid_loss</th>\n",
       "      <th>accuracy</th>\n",
       "      <th>time</th>\n",
       "    </tr>\n",
       "  </thead>\n",
       "  <tbody>\n",
       "    <tr>\n",
       "      <td>0</td>\n",
       "      <td>0.244611</td>\n",
       "      <td>0.181000</td>\n",
       "      <td>0.930920</td>\n",
       "      <td>00:27</td>\n",
       "    </tr>\n",
       "  </tbody>\n",
       "</table>"
      ],
      "text/plain": [
       "<IPython.core.display.HTML object>"
      ]
     },
     "metadata": {},
     "output_type": "display_data"
    }
   ],
   "source": [
    "\n",
    "learn.fit_one_cycle(1, 2e-2)"
   ]
  },
  {
   "cell_type": "code",
   "execution_count": 12,
   "id": "473cae06-bab5-4626-a883-c71e964dce24",
   "metadata": {
    "execution": {
     "iopub.execute_input": "2022-09-13T14:33:01.680207Z",
     "iopub.status.busy": "2022-09-13T14:33:01.679993Z",
     "iopub.status.idle": "2022-09-13T14:33:32.507169Z",
     "shell.execute_reply": "2022-09-13T14:33:32.506522Z",
     "shell.execute_reply.started": "2022-09-13T14:33:01.680188Z"
    }
   },
   "outputs": [
    {
     "data": {
      "text/html": [
       "\n",
       "<style>\n",
       "    /* Turns off some styling */\n",
       "    progress {\n",
       "        /* gets rid of default border in Firefox and Opera. */\n",
       "        border: none;\n",
       "        /* Needs to be in here for Safari polyfill so background images work as expected. */\n",
       "        background-size: auto;\n",
       "    }\n",
       "    progress:not([value]), progress:not([value])::-webkit-progress-bar {\n",
       "        background: repeating-linear-gradient(45deg, #7e7e7e, #7e7e7e 10px, #5c5c5c 10px, #5c5c5c 20px);\n",
       "    }\n",
       "    .progress-bar-interrupted, .progress-bar-interrupted::-webkit-progress-bar {\n",
       "        background: #F44336;\n",
       "    }\n",
       "</style>\n"
      ],
      "text/plain": [
       "<IPython.core.display.HTML object>"
      ]
     },
     "metadata": {},
     "output_type": "display_data"
    },
    {
     "data": {
      "text/html": [
       "<table border=\"1\" class=\"dataframe\">\n",
       "  <thead>\n",
       "    <tr style=\"text-align: left;\">\n",
       "      <th>epoch</th>\n",
       "      <th>train_loss</th>\n",
       "      <th>valid_loss</th>\n",
       "      <th>accuracy</th>\n",
       "      <th>time</th>\n",
       "    </tr>\n",
       "  </thead>\n",
       "  <tbody>\n",
       "    <tr>\n",
       "      <td>0</td>\n",
       "      <td>0.222388</td>\n",
       "      <td>0.167875</td>\n",
       "      <td>0.936960</td>\n",
       "      <td>00:30</td>\n",
       "    </tr>\n",
       "  </tbody>\n",
       "</table>"
      ],
      "text/plain": [
       "<IPython.core.display.HTML object>"
      ]
     },
     "metadata": {},
     "output_type": "display_data"
    }
   ],
   "source": [
    "learn.freeze_to(-2)\n",
    "learn.fit_one_cycle(1, slice(1e-2/(2.6**4),1e-2))"
   ]
  },
  {
   "cell_type": "code",
   "execution_count": 13,
   "id": "e02671d2-f680-4edc-9ab3-f45b2f59d4d9",
   "metadata": {
    "execution": {
     "iopub.execute_input": "2022-09-13T14:33:32.508498Z",
     "iopub.status.busy": "2022-09-13T14:33:32.508309Z",
     "iopub.status.idle": "2022-09-13T14:34:13.115275Z",
     "shell.execute_reply": "2022-09-13T14:34:13.114478Z",
     "shell.execute_reply.started": "2022-09-13T14:33:32.508478Z"
    }
   },
   "outputs": [
    {
     "data": {
      "text/html": [
       "\n",
       "<style>\n",
       "    /* Turns off some styling */\n",
       "    progress {\n",
       "        /* gets rid of default border in Firefox and Opera. */\n",
       "        border: none;\n",
       "        /* Needs to be in here for Safari polyfill so background images work as expected. */\n",
       "        background-size: auto;\n",
       "    }\n",
       "    progress:not([value]), progress:not([value])::-webkit-progress-bar {\n",
       "        background: repeating-linear-gradient(45deg, #7e7e7e, #7e7e7e 10px, #5c5c5c 10px, #5c5c5c 20px);\n",
       "    }\n",
       "    .progress-bar-interrupted, .progress-bar-interrupted::-webkit-progress-bar {\n",
       "        background: #F44336;\n",
       "    }\n",
       "</style>\n"
      ],
      "text/plain": [
       "<IPython.core.display.HTML object>"
      ]
     },
     "metadata": {},
     "output_type": "display_data"
    },
    {
     "data": {
      "text/html": [
       "<table border=\"1\" class=\"dataframe\">\n",
       "  <thead>\n",
       "    <tr style=\"text-align: left;\">\n",
       "      <th>epoch</th>\n",
       "      <th>train_loss</th>\n",
       "      <th>valid_loss</th>\n",
       "      <th>accuracy</th>\n",
       "      <th>time</th>\n",
       "    </tr>\n",
       "  </thead>\n",
       "  <tbody>\n",
       "    <tr>\n",
       "      <td>0</td>\n",
       "      <td>0.191986</td>\n",
       "      <td>0.148612</td>\n",
       "      <td>0.945280</td>\n",
       "      <td>00:40</td>\n",
       "    </tr>\n",
       "  </tbody>\n",
       "</table>"
      ],
      "text/plain": [
       "<IPython.core.display.HTML object>"
      ]
     },
     "metadata": {},
     "output_type": "display_data"
    }
   ],
   "source": [
    "learn.freeze_to(-3)\n",
    "learn.fit_one_cycle(1, slice(5e-3/(2.6**4),5e-3))"
   ]
  },
  {
   "cell_type": "code",
   "execution_count": 14,
   "id": "a7ad6349-41f6-4aa8-8559-1d175e402f3c",
   "metadata": {
    "execution": {
     "iopub.execute_input": "2022-09-13T14:34:13.118814Z",
     "iopub.status.busy": "2022-09-13T14:34:13.118382Z",
     "iopub.status.idle": "2022-09-13T14:35:55.167392Z",
     "shell.execute_reply": "2022-09-13T14:35:55.166748Z",
     "shell.execute_reply.started": "2022-09-13T14:34:13.118814Z"
    }
   },
   "outputs": [
    {
     "data": {
      "text/html": [
       "\n",
       "<style>\n",
       "    /* Turns off some styling */\n",
       "    progress {\n",
       "        /* gets rid of default border in Firefox and Opera. */\n",
       "        border: none;\n",
       "        /* Needs to be in here for Safari polyfill so background images work as expected. */\n",
       "        background-size: auto;\n",
       "    }\n",
       "    progress:not([value]), progress:not([value])::-webkit-progress-bar {\n",
       "        background: repeating-linear-gradient(45deg, #7e7e7e, #7e7e7e 10px, #5c5c5c 10px, #5c5c5c 20px);\n",
       "    }\n",
       "    .progress-bar-interrupted, .progress-bar-interrupted::-webkit-progress-bar {\n",
       "        background: #F44336;\n",
       "    }\n",
       "</style>\n"
      ],
      "text/plain": [
       "<IPython.core.display.HTML object>"
      ]
     },
     "metadata": {},
     "output_type": "display_data"
    },
    {
     "data": {
      "text/html": [
       "<table border=\"1\" class=\"dataframe\">\n",
       "  <thead>\n",
       "    <tr style=\"text-align: left;\">\n",
       "      <th>epoch</th>\n",
       "      <th>train_loss</th>\n",
       "      <th>valid_loss</th>\n",
       "      <th>accuracy</th>\n",
       "      <th>time</th>\n",
       "    </tr>\n",
       "  </thead>\n",
       "  <tbody>\n",
       "    <tr>\n",
       "      <td>0</td>\n",
       "      <td>0.156988</td>\n",
       "      <td>0.148744</td>\n",
       "      <td>0.946360</td>\n",
       "      <td>00:50</td>\n",
       "    </tr>\n",
       "    <tr>\n",
       "      <td>1</td>\n",
       "      <td>0.143647</td>\n",
       "      <td>0.149443</td>\n",
       "      <td>0.947200</td>\n",
       "      <td>00:51</td>\n",
       "    </tr>\n",
       "  </tbody>\n",
       "</table>"
      ],
      "text/plain": [
       "<IPython.core.display.HTML object>"
      ]
     },
     "metadata": {},
     "output_type": "display_data"
    }
   ],
   "source": [
    "learn.unfreeze()\n",
    "learn.fit_one_cycle(2, slice(1e-3/(2.6**4),1e-3))"
   ]
  },
  {
   "cell_type": "code",
   "execution_count": 15,
   "id": "dab56932-dca4-4577-a160-a14b9cefa5db",
   "metadata": {
    "execution": {
     "iopub.execute_input": "2022-09-13T14:35:55.168536Z",
     "iopub.status.busy": "2022-09-13T14:35:55.168336Z",
     "iopub.status.idle": "2022-09-13T14:35:55.992932Z",
     "shell.execute_reply": "2022-09-13T14:35:55.992255Z",
     "shell.execute_reply.started": "2022-09-13T14:35:55.168517Z"
    }
   },
   "outputs": [],
   "source": [
    "t=learn.export()\n"
   ]
  },
  {
   "cell_type": "code",
   "execution_count": 17,
   "id": "e468d47c-ac97-4a8e-8b25-96a87ebc570c",
   "metadata": {
    "execution": {
     "iopub.execute_input": "2022-09-13T15:14:12.252467Z",
     "iopub.status.busy": "2022-09-13T15:14:12.252195Z",
     "iopub.status.idle": "2022-09-13T15:14:12.742775Z",
     "shell.execute_reply": "2022-09-13T15:14:12.742169Z",
     "shell.execute_reply.started": "2022-09-13T15:14:12.252448Z"
    }
   },
   "outputs": [
    {
     "name": "stdout",
     "output_type": "stream",
     "text": [
      "/bin/bash: ./gdrive: No such file or directory\n"
     ]
    }
   ],
   "source": [
    "!./gdrive upload {t}"
   ]
  },
  {
   "cell_type": "code",
   "execution_count": 18,
   "id": "a88a1b5e-c1e5-4d71-8dee-682dc3d5068f",
   "metadata": {
    "execution": {
     "iopub.execute_input": "2022-09-13T15:14:50.781561Z",
     "iopub.status.busy": "2022-09-13T15:14:50.780792Z",
     "iopub.status.idle": "2022-09-13T15:14:50.785487Z",
     "shell.execute_reply": "2022-09-13T15:14:50.784759Z",
     "shell.execute_reply.started": "2022-09-13T15:14:50.781525Z"
    }
   },
   "outputs": [],
   "source": [
    "t"
   ]
  },
  {
   "cell_type": "code",
   "execution_count": null,
   "id": "280b03bb-6d4a-4c16-a2a1-169aa967b870",
   "metadata": {},
   "outputs": [],
   "source": []
  }
 ],
 "metadata": {
  "kernelspec": {
   "display_name": "Python 3 (ipykernel)",
   "language": "python",
   "name": "python3"
  },
  "language_info": {
   "codemirror_mode": {
    "name": "ipython",
    "version": 3
   },
   "file_extension": ".py",
   "mimetype": "text/x-python",
   "name": "python",
   "nbconvert_exporter": "python",
   "pygments_lexer": "ipython3",
   "version": "3.9.13"
  }
 },
 "nbformat": 4,
 "nbformat_minor": 5
}
